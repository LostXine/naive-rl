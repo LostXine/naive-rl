{
 "cells": [
  {
   "cell_type": "markdown",
   "metadata": {
    "colab_type": "text",
    "id": "gA8FHJqiMgOo"
   },
   "source": [
    "This notebook is modified from Yuheng Wang's instruction\n",
    "\n",
    "## **OpenAI Gym, PyBullet and PyBulletGym Installation**\n",
    "[Click here to see Gym documentaion](https://gym.openai.com/docs/)\n",
    "\n",
    "[Click here to see PyBullet documentaion](https://docs.google.com/document/d/10sXEhzFRSnvFcl3XxNGhnD4N2SedqwdAvK3dsihxVUA)\n",
    "\n",
    "[Click here to see PyBulletGym page](https://github.com/benelot/pybullet-gym)"
   ]
  },
  {
   "cell_type": "markdown",
   "metadata": {
    "colab_type": "text",
    "id": "nipCFbQpMu8h"
   },
   "source": [
    "**Before we start, first update the apt-get tool in the given machine.**"
   ]
  },
  {
   "cell_type": "code",
   "execution_count": 1,
   "metadata": {
    "ExecuteTime": {
     "end_time": "2020-12-10T06:41:59.076866Z",
     "start_time": "2020-12-10T06:41:58.927797Z"
    },
    "colab": {
     "base_uri": "https://localhost:8080/",
     "height": 485
    },
    "colab_type": "code",
    "id": "zViYHb_7C2fi",
    "outputId": "1a276889-b632-4107-f823-f9415abd90e1"
   },
   "outputs": [
    {
     "name": "stdout",
     "output_type": "stream",
     "text": [
      "\r",
      "Reading package lists... 0%\r",
      "\r",
      "Reading package lists... 100%\r",
      "\r",
      "Reading package lists... Done\r",
      "\r\n",
      "E: Could not open lock file /var/lib/apt/lists/lock - open (13: Permission denied)\r\n",
      "E: Unable to lock directory /var/lib/apt/lists/\r\n",
      "W: Problem unlinking the file /var/cache/apt/pkgcache.bin - RemoveCaches (13: Permission denied)\r\n",
      "W: Problem unlinking the file /var/cache/apt/srcpkgcache.bin - RemoveCaches (13: Permission denied)\r\n"
     ]
    }
   ],
   "source": [
    "!apt-get update"
   ]
  },
  {
   "cell_type": "markdown",
   "metadata": {
    "colab_type": "text",
    "id": "6x2LqNwbMFww"
   },
   "source": [
    "Most of the requirements of python packages are already fulfilled on Colab. To run Gym, you have to install prerequisites like xvbf,opengl & other python-dev packages using the following codes."
   ]
  },
  {
   "cell_type": "code",
   "execution_count": 2,
   "metadata": {
    "ExecuteTime": {
     "end_time": "2020-12-10T06:42:02.487684Z",
     "start_time": "2020-12-10T06:42:02.102424Z"
    },
    "colab": {
     "base_uri": "https://localhost:8080/",
     "height": 809
    },
    "colab_type": "code",
    "id": "EY1Z1npZC5fo",
    "outputId": "7633c2e7-094c-4337-8c0a-da20465f2c8b"
   },
   "outputs": [
    {
     "name": "stdout",
     "output_type": "stream",
     "text": [
      "/bin/bash: pip: command not found\n",
      "E: Could not open lock file /var/lib/dpkg/lock-frontend - open (13: Permission denied)\n",
      "E: Unable to acquire the dpkg frontend lock (/var/lib/dpkg/lock-frontend), are you root?\n",
      "\u001b[1;31mE: \u001b[0mCould not open lock file /var/lib/dpkg/lock-frontend - open (13: Permission denied)\u001b[0m\n",
      "\u001b[1;31mE: \u001b[0mUnable to acquire the dpkg frontend lock (/var/lib/dpkg/lock-frontend), are you root?\u001b[0m\n"
     ]
    }
   ],
   "source": [
    "!pip install gym\n",
    "!apt-get install python-opengl -y\n",
    "!apt install xvfb -y"
   ]
  },
  {
   "cell_type": "code",
   "execution_count": null,
   "metadata": {
    "colab": {
     "base_uri": "https://localhost:8080/",
     "height": 413
    },
    "colab_type": "code",
    "id": "RD8I53YpC92T",
    "outputId": "3cc97bd9-630e-4a4c-8bf7-a23b7e3c02be"
   },
   "outputs": [],
   "source": [
    "# For rendering environment, you can use pyvirtualdisplay. \n",
    "!pip install pyvirtualdisplay\n",
    "!pip install piglet"
   ]
  },
  {
   "cell_type": "code",
   "execution_count": null,
   "metadata": {
    "colab": {
     "base_uri": "https://localhost:8080/",
     "height": 118
    },
    "colab_type": "code",
    "id": "5-z6FT2NYzXE",
    "outputId": "a5c46d2d-0c44-42af-ddbf-a02ccaad0ff7"
   },
   "outputs": [],
   "source": [
    "!pip install pybullet==2.5.9"
   ]
  },
  {
   "cell_type": "code",
   "execution_count": null,
   "metadata": {
    "colab": {},
    "colab_type": "code",
    "id": "HHwqCuAVDrn9"
   },
   "outputs": [],
   "source": [
    "# Please use this version with several bugs fixed \n",
    "!git clone https://github.com/LostXine/pybullet-gym.git"
   ]
  },
  {
   "cell_type": "code",
   "execution_count": null,
   "metadata": {
    "colab": {},
    "colab_type": "code",
    "id": "_GVojhyza7Nz"
   },
   "outputs": [],
   "source": [
    "cd pybullet-gym/\n",
    "!git checkout myfix"
   ]
  },
  {
   "cell_type": "code",
   "execution_count": null,
   "metadata": {
    "colab": {},
    "colab_type": "code",
    "id": "-gEJuj5LDxL0"
   },
   "outputs": [],
   "source": [
    "!pip install -e ."
   ]
  },
  {
   "cell_type": "markdown",
   "metadata": {
    "colab_type": "text",
    "id": "uZVlna0dTh3N"
   },
   "source": [
    "** Now import everything and test them.**"
   ]
  },
  {
   "cell_type": "code",
   "execution_count": 1,
   "metadata": {
    "ExecuteTime": {
     "end_time": "2021-05-21T12:50:55.801733Z",
     "start_time": "2021-05-21T12:50:55.425125Z"
    },
    "colab": {},
    "colab_type": "code",
    "id": "zuMjm4mjC_9T"
   },
   "outputs": [],
   "source": [
    "import gym\n",
    "from gym import logger as gymlogger\n",
    "gymlogger.set_level(40) # error only\n",
    "import pybulletgym  # register PyBullet enviroments with open ai gym\n",
    "\n",
    "import numpy as np\n",
    "\n",
    "# Colab comes with PyTorch\n",
    "import torch\n",
    "import torch.nn as nn\n",
    "import torch.autograd as autograd"
   ]
  },
  {
   "cell_type": "code",
   "execution_count": 2,
   "metadata": {
    "ExecuteTime": {
     "end_time": "2021-05-21T12:50:57.140051Z",
     "start_time": "2021-05-21T12:50:56.966656Z"
    },
    "colab": {},
    "colab_type": "code",
    "id": "EcC_JgisDHhq"
   },
   "outputs": [
    {
     "name": "stdout",
     "output_type": "stream",
     "text": [
      "Box(-1.0, 1.0, (1,), float32)\n"
     ]
    },
    {
     "data": {
      "text/plain": [
       "array([0.        , 0.09671903, 0.05298162, 0.99531174, 0.9985955 ,\n",
       "       0.        , 0.        , 0.        , 0.        , 0.        ,\n",
       "       0.        ], dtype=float32)"
      ]
     },
     "execution_count": 2,
     "metadata": {},
     "output_type": "execute_result"
    }
   ],
   "source": [
    "#define the simulated environment we are going to use\n",
    "env = gym.make(\"InvertedPendulumMuJoCoEnv-v0\")\n",
    "#check out the pacman action space!\n",
    "print(env.action_space)\n",
    "\n",
    "# should return a state vector if everything worked (value doesn't matter)\n",
    "env.reset()"
   ]
  },
  {
   "cell_type": "code",
   "execution_count": 3,
   "metadata": {
    "ExecuteTime": {
     "end_time": "2021-05-21T12:46:55.971784Z",
     "start_time": "2021-05-21T12:46:55.950941Z"
    },
    "colab": {},
    "colab_type": "code",
    "id": "tlmj9KdVKdey"
   },
   "outputs": [
    {
     "name": "stdout",
     "output_type": "stream",
     "text": [
      "WalkerBase::__init__\n",
      "Box(-1.0, 1.0, (6,), float32)\n"
     ]
    },
    {
     "data": {
      "text/plain": [
       "array([-0.0807218 ,  0.06507554,  0.03427074,  0.08719555, -0.01863771,\n",
       "        0.09976987,  0.05415711, -0.04832714,  0.        ,  0.        ,\n",
       "        0.        ,  0.        ,  0.        ,  0.        ,  0.        ,\n",
       "        0.        ,  0.        ], dtype=float32)"
      ]
     },
     "execution_count": 3,
     "metadata": {},
     "output_type": "execute_result"
    }
   ],
   "source": [
    "env = gym.make(\"Walker2DMuJoCoEnv-v0\")\n",
    "print(env.action_space)\n",
    "\n",
    "env.reset()"
   ]
  },
  {
   "cell_type": "code",
   "execution_count": 4,
   "metadata": {
    "ExecuteTime": {
     "end_time": "2021-05-21T12:46:31.455827Z",
     "start_time": "2021-05-21T12:46:31.439037Z"
    },
    "colab": {},
    "colab_type": "code",
    "id": "ml48iykVOaLV"
   },
   "outputs": [
    {
     "name": "stdout",
     "output_type": "stream",
     "text": [
      "WalkerBase::__init__\n",
      "Box(-1.0, 1.0, (6,), float32)\n"
     ]
    },
    {
     "data": {
      "text/plain": [
       "array([-0.06263518,  0.05273381, -0.09318163, -0.01394131, -0.08216418,\n",
       "        0.03667672, -0.0572006 ,  0.02795838,  0.        ,  0.        ,\n",
       "        0.        ,  0.        ,  0.        ,  0.        ,  0.        ,\n",
       "        0.        ,  0.        ], dtype=float32)"
      ]
     },
     "execution_count": 4,
     "metadata": {},
     "output_type": "execute_result"
    }
   ],
   "source": [
    "env = gym.make(\"HalfCheetahMuJoCoEnv-v0\")\n",
    "print(env.action_space)\n",
    "\n",
    "env.reset()"
   ]
  },
  {
   "cell_type": "markdown",
   "metadata": {
    "colab": {},
    "colab_type": "code",
    "id": "E_ym_Zx_Wd4q"
   },
   "source": [
    "** Congratulation! Now you can play with your RL agent! **"
   ]
  },
  {
   "cell_type": "code",
   "execution_count": null,
   "metadata": {},
   "outputs": [],
   "source": []
  }
 ],
 "metadata": {
  "accelerator": "GPU",
  "colab": {
   "collapsed_sections": [],
   "name": "OpenAI gym.ipynb",
   "provenance": []
  },
  "kernelspec": {
   "display_name": "base",
   "language": "python",
   "name": "base"
  },
  "language_info": {
   "codemirror_mode": {
    "name": "ipython",
    "version": 3
   },
   "file_extension": ".py",
   "mimetype": "text/x-python",
   "name": "python",
   "nbconvert_exporter": "python",
   "pygments_lexer": "ipython3",
   "version": "3.8.5"
  },
  "varInspector": {
   "cols": {
    "lenName": 16,
    "lenType": 16,
    "lenVar": 40
   },
   "kernels_config": {
    "python": {
     "delete_cmd_postfix": "",
     "delete_cmd_prefix": "del ",
     "library": "var_list.py",
     "varRefreshCmd": "print(var_dic_list())"
    },
    "r": {
     "delete_cmd_postfix": ") ",
     "delete_cmd_prefix": "rm(",
     "library": "var_list.r",
     "varRefreshCmd": "cat(var_dic_list()) "
    }
   },
   "types_to_exclude": [
    "module",
    "function",
    "builtin_function_or_method",
    "instance",
    "_Feature"
   ],
   "window_display": false
  }
 },
 "nbformat": 4,
 "nbformat_minor": 1
}
