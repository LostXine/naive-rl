{
 "cells": [
  {
   "cell_type": "markdown",
   "metadata": {},
   "source": [
    "# DQN-Ram\n",
    "\n",
    "## Features\n",
    "* Discrete action space\n",
    "* Input: length of state space (1D state)\n",
    "* Ouput: length of action space\n",
    "* Target network\n",
    "* Replay buffer\n",
    "\n",
    "## Test env\n",
    "* InvertedPendulumMuJoCoEnv-v0 **[Solved]**\n",
    "* HalfCheetahMuJoCoEnv-v0 **[Solved]**\n",
    "* Breakout-ram-v4 **[Better than random]**\n"
   ]
  },
  {
   "cell_type": "code",
   "execution_count": 1,
   "metadata": {},
   "outputs": [],
   "source": [
    "# load gym envs and common functions\n",
    "from utils import *"
   ]
  },
  {
   "cell_type": "code",
   "execution_count": 2,
   "metadata": {},
   "outputs": [],
   "source": [
    "# Sample tuple\n",
    "Transition = namedtuple('Transition',\n",
    "                        ('state', 'action', 'next_state', 'reward', 'done'))\n",
    "\n",
    "# ReplayBuffer\n",
    "class ReplayBuffer(object):\n",
    "    def __init__(self, capacity):\n",
    "        self.capacity = capacity\n",
    "        self.memory = []\n",
    "        self.position = 0\n",
    "\n",
    "    def push(self, *args):\n",
    "        \"\"\"Saves a transition.\"\"\"\n",
    "        if len(self.memory) < self.capacity:\n",
    "            self.memory.append(None)\n",
    "        self.memory[self.position] = Transition(*args)\n",
    "        self.position = (self.position + 1) % self.capacity\n",
    "\n",
    "    def sample(self, batch_size):\n",
    "        return random.sample(self.memory, batch_size)\n",
    "\n",
    "    def __len__(self):\n",
    "        return len(self.memory)\n",
    "\n",
    "    \n",
    "# DQN\n",
    "# Discrete action space and 1D state vector\n",
    "class DQNRam:\n",
    "    def __init__(self, net, opt, actions, device, gamma=0.99):\n",
    "        self.name = \"DQNRam\"\n",
    "        self.policy = net\n",
    "        self.target = copy.deepcopy(net) # add target network\n",
    "        self.opt = opt\n",
    "        self.gamma = gamma\n",
    "        self.actions = actions\n",
    "        self.device = device\n",
    "        \n",
    "    def load(self, data):\n",
    "        self.policy.load_state_dict(data['policy'])\n",
    "        self.target.load_state_dict(data['target'])\n",
    "        \n",
    "    def save(self):\n",
    "        return {'policy': self.policy.state_dict(),\n",
    "                'target': self.target.state_dict()}\n",
    "    \n",
    "    def prep(self, s):\n",
    "        return torch.from_numpy(s).float().view(1, -1).to(self.device)\n",
    "    \n",
    "    def forward(self, s):\n",
    "        with torch.no_grad():\n",
    "            return self.policy(self.prep(s)).max(1)[1][0]\n",
    "\n",
    "    def e_greedy(self, s, epsilon):\n",
    "        action_len = len(self.actions)\n",
    "        p = np.ones(action_len) * epsilon / action_len\n",
    "        p[self.forward(s)] += 1 - epsilon\n",
    "        return np.random.choice(action_len, p=p)\n",
    "        \n",
    "    def best(self, s):\n",
    "        return self.actions[self.forward(s)]\n",
    "    \n",
    "    # copy policy network to target network\n",
    "    def update(self):\n",
    "        self.target.load_state_dict(self.policy.state_dict())\n",
    "        \n",
    "    def train(self, transitions):\n",
    "        s, a, r, sp, done = zip(*transitions)\n",
    "        \n",
    "        s = torch.cat([self.prep(i) for i in s], axis=0).to(self.device) # m * n\n",
    "        sp = torch.cat([self.prep(i) for i in sp], axis=0).to(self.device) # m * n\n",
    "        r = torch.Tensor([r]).view(-1, 1).to(self.device)\n",
    "        a = torch.Tensor([a]).long().view(-1, 1).to(self.device)\n",
    "        done = torch.Tensor([done]).view(-1, 1).to(self.device) \n",
    "        \n",
    "        with torch.no_grad():\n",
    "            next_q = self.target(sp).max(1)[0].unsqueeze(1)\n",
    "        target_q = r + self.gamma * next_q * (1 - done)\n",
    "\n",
    "        current_q = self.policy(s).gather(1, a)\n",
    "        loss = F.mse_loss(current_q, target_q)\n",
    "        \n",
    "        self.opt.zero_grad()\n",
    "        loss.backward()\n",
    "        self.opt.step()\n",
    "        return loss.item()\n",
    "\n",
    "\n",
    "def dqn_ram_learning(env_name, agent, config, seed=0):\n",
    "    set_seeds(seed)\n",
    "    \n",
    "    # init env\n",
    "    env = gym.make(env_name)\n",
    "    print(\"Env:\", env_name)\n",
    "    print(\"Action space:\", env.action_space)\n",
    "    print(\"Obs space:\", env.observation_space)\n",
    "    print(\"Agent:\", agent.name)\n",
    "    \n",
    "    epoch, rewards, max_reward = load_state(env_name, agent)\n",
    "    print(f\"Start at epoch {epoch}, max_reward: {max_reward}\")\n",
    "    \n",
    "    # init replay buffer\n",
    "    memory = ReplayBuffer(config.get('buffer_size', 50000))\n",
    "    batch_size = config.get('batch_size', 32)\n",
    "    \n",
    "    # epsilon decay\n",
    "    epsilon_min = config.get('epsilon_min', 0.1)\n",
    "    epsilon_discount = config.get('epsilon_discount', 0.99)\n",
    "    epsilon = config.get('epsilon_max', 0.5) * pow(epsilon_discount, epoch)\n",
    "    \n",
    "    # update network count\n",
    "    train_count = 0\n",
    "    \n",
    "    # start training and test\n",
    "    while epoch < config.get('max_epoch', 5000):\n",
    "        try:\n",
    "            loss = []\n",
    "            \n",
    "            # learning\n",
    "            obs = env.reset()\n",
    "            for i in range(config.get('max_step', 1000)):\n",
    "                s = obs.ravel()\n",
    "                a = agent.e_greedy(s, epsilon)\n",
    "                # One step\n",
    "                obs, r, done, _ = env.step(agent.actions[a])\n",
    "                # push to replay buffer\n",
    "                memory.push(s, a, r, obs.ravel(), 1 if done else 0)\n",
    "                \n",
    "                # check for training\n",
    "                if len(memory) >= batch_size and i % config.get('learn_interval', 4) == 0:\n",
    "                    loss_ = agent.train(memory.sample(batch_size))\n",
    "                    loss.append(loss_)\n",
    "                    train_count += 1\n",
    "                \n",
    "                # check for update target network\n",
    "                if train_count > config.get('update_interval', 100):\n",
    "                    agent.update()\n",
    "                    train_count = 0\n",
    "                \n",
    "                if done:\n",
    "                    break\n",
    "\n",
    "            # test\n",
    "            test_reward = 0\n",
    "            obs = env.reset()\n",
    "            for i in range(config.get('max_step', 1000)):\n",
    "                s = obs.ravel()\n",
    "                a = agent.best(s)\n",
    "                obs, r, done, _ = env.step(a)\n",
    "                test_reward += r\n",
    "                if done:\n",
    "                    break\n",
    "            \n",
    "            # save reward\n",
    "            rewards.append(test_reward)\n",
    "            if len(loss):\n",
    "                print(f\"Epoch {epoch} | Epsilon: {epsilon:.3f} | Buffer: {len(memory)} | Avg loss: {np.mean(loss)} | Test reward: {test_reward:.1f}\")\n",
    "            else:\n",
    "                print(f\"Epoch {epoch} | Epsilon: {epsilon:.3f} | Buffer: {len(memory)} | Test reward: {test_reward:.1f}\")\n",
    "            \n",
    "            # save states\n",
    "            if test_reward >= max_reward or epoch % config.get('save_interval', 100) == 0:\n",
    "                max_reward = max(test_reward, max_reward)\n",
    "                save_state(env_name, agent, f'-{epoch}', epoch, rewards)\n",
    "                \n",
    "            # epsilon decay\n",
    "            epsilon *= epsilon_discount\n",
    "            epsilon = max(epsilon_min, epsilon)\n",
    "            \n",
    "            epoch += 1\n",
    "        except KeyboardInterrupt:\n",
    "            break\n",
    "        except:\n",
    "            traceback.print_exc()\n",
    "            break\n",
    "    save_state(env_name, agent, '', epoch, rewards)\n",
    "    # clean up\n",
    "    env.close()\n",
    "    # plot rewards\n",
    "    draw_training_rewards(f\"{agent.name} - {env_name}\", rewards, config['plt_smooth'])"
   ]
  },
  {
   "cell_type": "markdown",
   "metadata": {},
   "source": [
    "###  Env 1 InvertedPendulumMuJoCoEnv-v0"
   ]
  },
  {
   "cell_type": "code",
   "execution_count": 3,
   "metadata": {},
   "outputs": [],
   "source": [
    "# Initialize network, optimizer and agent\n",
    "\n",
    "config = {\n",
    "    \"save_interval\": 500,\n",
    "    \"update_interval\": 100,\n",
    "    \"learn_interval\": 5,\n",
    "    \"max_epoch\": 10000,\n",
    "    \"max_step\": 1000,\n",
    "    \"epsilon_max\": 0.5, # e-greedy\n",
    "    \"epsilon_min\": 0.1,\n",
    "    \"epsilon_discount\": 0.999, \n",
    "    \"gamma\": 0.9,   # discount factor\n",
    "    \"lr\": 0.0001,    # learning rate\n",
    "    \"buffer_size\": 5000,\n",
    "    \"batch_size\": 128,\n",
    "    \"plt_smooth\": 1,\n",
    "    \"test_max_epoch\": 10,\n",
    "    \"test_max_step\": 1000,\n",
    "}\n",
    "\n",
    "# load 3-layer FC network\n",
    "from model.FCN3 import *\n",
    "\n",
    "device = torch.device(\"cuda\" if torch.cuda.is_available() else \"cpu\")\n",
    "actions = [[-1], [0], [1]]\n",
    "net = FCN3(4, len(actions), 32).to(device)\n",
    "opt = torch.optim.RMSprop(net.parameters(), lr=config['lr'])\n",
    "agent = DQNRam(net, opt, actions, device, gamma=config['gamma'])"
   ]
  },
  {
   "cell_type": "code",
   "execution_count": null,
   "metadata": {
    "scrolled": true
   },
   "outputs": [],
   "source": [
    "# train agent\n",
    "dqn_ram_learning(\"InvertedPendulumMuJoCoEnv-v0\", agent, config)"
   ]
  },
  {
   "cell_type": "code",
   "execution_count": 5,
   "metadata": {
    "scrolled": true
   },
   "outputs": [
    {
     "name": "stdout",
     "output_type": "stream",
     "text": [
      "options= \n",
      "Test DQNRam at epoch 4321, max_reward: 1000.0\n",
      "options= \n",
      "Test 1 | Step: 1000 | Test reward: 1000.0\n",
      "Test 2 | Step: 1000 | Test reward: 1000.0\n",
      "Test 3 | Step: 1000 | Test reward: 1000.0\n",
      "Test 4 | Step: 1000 | Test reward: 1000.0\n",
      "Test 5 | Step: 1000 | Test reward: 1000.0\n",
      "Test 6 | Step: 1000 | Test reward: 1000.0\n",
      "Test 7 | Step: 1000 | Test reward: 1000.0\n",
      "Test 8 | Step: 1000 | Test reward: 1000.0\n",
      "Test 9 | Step: 1000 | Test reward: 1000.0\n",
      "Test 10 | Step: 1000 | Test reward: 1000.0\n",
      "Mean reward: 1000.0.\n"
     ]
    },
    {
     "data": {
      "image/png": "[encoded data removed]",
      "text/plain": [
       "<Figure size 432x288 with 1 Axes>"
      ]
     },
     "metadata": {
      "needs_background": "light"
     },
     "output_type": "display_data"
    }
   ],
   "source": [
    "# evaluate agent\n",
    "evaluate_agent(\"InvertedPendulumMuJoCoEnv-v0\", agent, config)"
   ]
  },
  {
   "cell_type": "markdown",
   "metadata": {},
   "source": [
    "###  Env 2 HalfCheetahMuJoCoEnv-v0"
   ]
  },
  {
   "cell_type": "code",
   "execution_count": 6,
   "metadata": {},
   "outputs": [],
   "source": [
    "config = {\n",
    "    \"save_interval\": 500,\n",
    "    \"update_interval\": 1000,\n",
    "    \"learn_interval\": 10,\n",
    "    \"max_epoch\": 50000,\n",
    "    \"max_step\": 200,\n",
    "    \"epsilon_max\": 0.5, # e-greedy\n",
    "    \"epsilon_min\": 0.1,\n",
    "    \"epsilon_discount\": 0.9999, \n",
    "    \"gamma\": 0.99,   # discount factor\n",
    "    \"lr\": 0.00001,   # learning rate\n",
    "    \"buffer_size\": 5000,\n",
    "    \"batch_size\": 32,\n",
    "    \"plt_smooth\": 1,    #\n",
    "    \"test_max_epoch\": 10,\n",
    "    \"test_max_step\": 1000,\n",
    "}\n",
    "\n",
    "# load 5-layer FC network\n",
    "from model.FCN5 import *\n",
    "\n",
    "device = torch.device(\"cuda\" if torch.cuda.is_available() else \"cpu\")\n",
    "actions = [[j1, j2, j3, j4, j5, j6] for j1 in range(-1, 2)\n",
    "           for j2 in range(-1, 2)\n",
    "           for j3 in range(-1, 2)\n",
    "           for j4 in range(-1, 2)\n",
    "           for j5 in range(-1, 2)\n",
    "           for j6 in range(-1, 2)]\n",
    "net = FCN5(17, len(actions), 128).to(device)\n",
    "opt = torch.optim.RMSprop(net.parameters(), lr=config['lr'])\n",
    "agent = DQNRam(net, opt, actions, device, gamma=config['gamma'])"
   ]
  },
  {
   "cell_type": "code",
   "execution_count": null,
   "metadata": {
    "scrolled": true
   },
   "outputs": [],
   "source": [
    "# train agent\n",
    "dqn_ram_learning(\"HalfCheetahMuJoCoEnv-v0\", agent, config)"
   ]
  },
  {
   "cell_type": "code",
   "execution_count": 18,
   "metadata": {
    "scrolled": true
   },
   "outputs": [
    {
     "name": "stdout",
     "output_type": "stream",
     "text": [
      "WalkerBase::__init__\n",
      "options= \n",
      "Test DQNRam at epoch 17000, max_reward: 165.9775794728209\n",
      "options= \n",
      "Test 1 | Step: 1000 | Test reward: 685.4\n",
      "Test 2 | Step: 1000 | Test reward: 722.7\n",
      "Test 3 | Step: 1000 | Test reward: 728.2\n",
      "Test 4 | Step: 1000 | Test reward: 497.7\n",
      "Test 5 | Step: 1000 | Test reward: 692.4\n",
      "Test 6 | Step: 1000 | Test reward: 673.0\n",
      "Test 7 | Step: 1000 | Test reward: 501.6\n",
      "Test 8 | Step: 1000 | Test reward: 738.4\n",
      "Test 9 | Step: 1000 | Test reward: 669.8\n",
      "Test 10 | Step: 1000 | Test reward: 679.9\n",
      "Mean reward: 658.9.\n"
     ]
    },
    {
     "data": {
      "image/png": "[encoded data removed]",
      "text/plain": [
       "<Figure size 432x288 with 1 Axes>"
      ]
     },
     "metadata": {
      "needs_background": "light"
     },
     "output_type": "display_data"
    }
   ],
   "source": [
    "# test agent\n",
    "evaluate_agent(\"HalfCheetahMuJoCoEnv-v0\", agent, config)"
   ]
  },
  {
   "cell_type": "markdown",
   "metadata": {},
   "source": [
    "###  Env 3 Breakout-ram-v4"
   ]
  },
  {
   "cell_type": "code",
   "execution_count": 3,
   "metadata": {},
   "outputs": [],
   "source": [
    "# Initialize network, optimizer and agent\n",
    "\n",
    "config = {\n",
    "    \"save_interval\": 500,\n",
    "    \"update_interval\": 100,\n",
    "    \"learn_interval\": 10,\n",
    "    \"max_epoch\": 100000,\n",
    "    \"max_step\": 1000,\n",
    "    \"epsilon_max\": 0.5, # e-greedy\n",
    "    \"epsilon_min\": 0.1,\n",
    "    \"epsilon_discount\": 0.999, \n",
    "    \"gamma\": 0.99,   # discount factor\n",
    "    \"lr\": 0.0001,    # learning rate\n",
    "    \"buffer_size\": 5000,\n",
    "    \"batch_size\": 32,\n",
    "    \"plt_smooth\": 1,\n",
    "    \"test_max_epoch\": 10,\n",
    "    \"test_max_step\": 1000,\n",
    "}\n",
    "\n",
    "# load 5-layer FC network\n",
    "from model.FCN5 import *\n",
    "\n",
    "device = torch.device(\"cuda\" if torch.cuda.is_available() else \"cpu\")\n",
    "actions = [[0], [1], [2], [3]]\n",
    "net = FCN5(128, len(actions), 128).to(device)\n",
    "opt = torch.optim.RMSprop(net.parameters(), lr=config['lr'])\n",
    "agent = DQNRam(net, opt, actions, device, gamma=config['gamma'])\n",
    "\n",
    "def normalized_prep(self, s):\n",
    "    val = torch.from_numpy(s).float() / 255\n",
    "    return val.view(1, -1).to(self.device)\n",
    "\n",
    "import types\n",
    "agent.prep=types.MethodType(normalized_prep, agent)\n",
    "        "
   ]
  },
  {
   "cell_type": "code",
   "execution_count": null,
   "metadata": {},
   "outputs": [],
   "source": [
    "# train agent\n",
    "dqn_ram_learning(\"Breakout-ram-v4\", agent, config)"
   ]
  },
  {
   "cell_type": "code",
   "execution_count": 4,
   "metadata": {
    "scrolled": true
   },
   "outputs": [
    {
     "name": "stdout",
     "output_type": "stream",
     "text": [
      "Test DQNRam at epoch 80481, max_reward: 18.0\n",
      "Test 1 | Step: 998 | Test reward: 6.0\n",
      "Test 2 | Step: 964 | Test reward: 5.0\n",
      "Test 3 | Step: 804 | Test reward: 2.0\n",
      "Test 4 | Step: 1000 | Test reward: 6.0\n",
      "Test 5 | Step: 430 | Test reward: 7.0\n",
      "Test 6 | Step: 833 | Test reward: 8.0\n",
      "Test 7 | Step: 521 | Test reward: 6.0\n",
      "Test 8 | Step: 446 | Test reward: 5.0\n",
      "Test 9 | Step: 853 | Test reward: 7.0\n",
      "Test 10 | Step: 407 | Test reward: 4.0\n",
      "Mean reward: 5.6.\n"
     ]
    },
    {
     "data": {
      "image/png": "[encoded data removed]",
      "text/plain": [
       "<Figure size 432x288 with 1 Axes>"
      ]
     },
     "metadata": {
      "needs_background": "light"
     },
     "output_type": "display_data"
    }
   ],
   "source": [
    "# evaluate agent\n",
    "evaluate_agent(\"Breakout-ram-v4\", agent, config)"
   ]
  },
  {
   "cell_type": "code",
   "execution_count": null,
   "metadata": {},
   "outputs": [],
   "source": []
  }
 ],
 "metadata": {
  "kernelspec": {
   "display_name": "Python 3",
   "language": "python",
   "name": "python3"
  },
  "language_info": {
   "codemirror_mode": {
    "name": "ipython",
    "version": 3
   },
   "file_extension": ".py",
   "mimetype": "text/x-python",
   "name": "python",
   "nbconvert_exporter": "python",
   "pygments_lexer": "ipython3",
   "version": "3.6.9"
  }
 },
 "nbformat": 4,
 "nbformat_minor": 2
}
