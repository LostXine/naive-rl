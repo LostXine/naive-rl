{
 "cells": [
  {
   "cell_type": "markdown",
   "metadata": {},
   "source": [
    "# Vanilla Online Q Learning\n",
    "\n",
    "## Features\n",
    "* Discrete action space\n",
    "* Input: length of state space\n",
    "* Ouput: length of action space\n",
    "\n",
    "## Test env\n",
    "* InvertedPendulumMuJoCoEnv-v0 **[Solved]**\n",
    "* HalfCheetahMuJoCoEnv-v0 **[Solved]**\n",
    "* Breakout-ram-v4 **[Sometimes Solved]**\n"
   ]
  },
  {
   "cell_type": "code",
   "execution_count": 1,
   "metadata": {},
   "outputs": [],
   "source": [
    "# load gym envs and common functions\n",
    "from utils import *"
   ]
  },
  {
   "cell_type": "code",
   "execution_count": 2,
   "metadata": {},
   "outputs": [],
   "source": [
    "# Vanilla Q learner\n",
    "# Discrete action space and 1D state vector\n",
    "class VanillaQ:\n",
    "    def __init__(self, net, opt, actions, device, gamma=0.99):\n",
    "        self.name = \"VanillaQ\"\n",
    "        self.policy = net\n",
    "        self.opt = opt\n",
    "        self.gamma = gamma\n",
    "        self.actions = actions\n",
    "        self.device = device\n",
    "        \n",
    "    def load(self, data):\n",
    "        self.policy.load_state_dict(data['policy'])\n",
    "        \n",
    "    def save(self):\n",
    "        return {'policy': self.policy.state_dict()}\n",
    "    \n",
    "    def prep(self, s):\n",
    "        return torch.from_numpy(s).float().view(1, -1).to(self.device)\n",
    "    \n",
    "    def forward(self, s):\n",
    "        with torch.no_grad():\n",
    "            return self.policy(self.prep(s)).max(1)[1][0]\n",
    "\n",
    "    def e_greedy(self, s, epsilon):\n",
    "        action_len = len(self.actions)\n",
    "        p = np.ones(action_len) * epsilon / action_len\n",
    "        p[self.forward(s)] += 1 - epsilon\n",
    "        return np.random.choice(action_len, p=p)\n",
    "        \n",
    "    def best(self, s):\n",
    "        return self.actions[self.forward(s)]\n",
    "        \n",
    "    def train(self, s, a, r, sp, done):\n",
    "        s = self.prep(s) # 1 * n\n",
    "        sp = self.prep(sp) # 1 * n\n",
    "        r = torch.Tensor([r]).view(-1, 1).to(self.device)\n",
    "        a = torch.Tensor([a]).long().view(-1, 1).to(self.device)\n",
    "        \n",
    "        if done:\n",
    "            target_q = r\n",
    "        else:\n",
    "            with torch.no_grad():\n",
    "                next_q = self.policy(sp).max(1)[0]\n",
    "            target_q = r + self.gamma * next_q\n",
    "\n",
    "        current_q = self.policy(s).gather(1, a)\n",
    "        loss = F.mse_loss(current_q, target_q)\n",
    "        \n",
    "        self.opt.zero_grad()\n",
    "        loss.backward()\n",
    "        self.opt.step()\n",
    "        return loss.item()\n",
    "\n",
    "\n",
    "def vanilla_q_learning(env_name, agent, config, seed=0):\n",
    "    set_seeds(seed)\n",
    "    \n",
    "    # init env\n",
    "    env = gym.make(env_name)\n",
    "    print(\"Env:\", env_name)\n",
    "    print(\"Action space:\", env.action_space)\n",
    "    print(\"Obs space:\", env.observation_space)\n",
    "    print(\"Agent:\", agent.name)\n",
    "    \n",
    "    epoch, rewards, max_reward = load_state(env_name, agent)\n",
    "    print(f\"Start at epoch {epoch}, max_reward: {max_reward}\")\n",
    "    \n",
    "    # start training and test\n",
    "    while epoch < config.get('max_epoch', 5000):\n",
    "        try:\n",
    "            loss = 0\n",
    "            # learning\n",
    "            obs = env.reset()\n",
    "            train_step = 0\n",
    "            for i in range(config.get('max_step', 1000)):\n",
    "                s = obs.ravel()\n",
    "                a = agent.e_greedy(s, config.get('epsilon', 0.1))\n",
    "                # One step\n",
    "                obs, r, done, _ = env.step(agent.actions[a])\n",
    "                loss += agent.train(s, a, r, obs.ravel(), done)\n",
    "                if done:\n",
    "                    loss /= (i + 1)\n",
    "                    break\n",
    "            \n",
    "            # test\n",
    "            test_reward = 0\n",
    "            obs = env.reset()\n",
    "            for i in range(config.get('max_step', 1000)):\n",
    "                s = obs.ravel()\n",
    "                a = agent.best(s)\n",
    "                obs, r, done, _ = env.step(a)\n",
    "                test_reward += r\n",
    "                if done:\n",
    "                    break\n",
    "            \n",
    "            # save reward\n",
    "            rewards.append(test_reward)\n",
    "            print(f\"Epoch {epoch} | Avg loss: {loss} | Test reward: {test_reward:.1f}\")\n",
    "            \n",
    "            # save states\n",
    "            if test_reward >= max_reward or epoch % config.get('save_interval', 100) == 0:\n",
    "                max_reward = max(test_reward, max_reward)\n",
    "                save_state(env_name, agent, f'-{epoch}', epoch, rewards)\n",
    "            epoch += 1\n",
    "        except KeyboardInterrupt:\n",
    "            break\n",
    "        except:\n",
    "            traceback.print_exc()\n",
    "            break\n",
    "    save_state(env_name, agent, '', epoch, rewards)\n",
    "    # clean up\n",
    "    env.close()\n",
    "    # plot rewards\n",
    "    draw_training_rewards(f\"{agent.name} - {env_name}\", rewards, config['plt_smooth'])"
   ]
  },
  {
   "cell_type": "markdown",
   "metadata": {},
   "source": [
    "###  Env 1 InvertedPendulumMuJoCoEnv-v0"
   ]
  },
  {
   "cell_type": "code",
   "execution_count": 3,
   "metadata": {},
   "outputs": [],
   "source": [
    "# Initialize network, optimizer and agent\n",
    "\n",
    "config = {\n",
    "    \"save_interval\": 500,\n",
    "    \"max_epoch\": 2000,\n",
    "    \"max_step\": 1000,\n",
    "    \"epsilon\": 0.1, # e-greedy\n",
    "    \"gamma\": 0.9,   # discount factor\n",
    "    \"lr\": 0.001,    # learning rate\n",
    "    \"plt_smooth\": 1,    #\n",
    "    \"test_max_epoch\": 10,\n",
    "    \"test_max_step\": 1000,\n",
    "}\n",
    "\n",
    "# load 3-layer FC network\n",
    "from model.FCN3 import *\n",
    "\n",
    "device = torch.device(\"cuda\" if torch.cuda.is_available() else \"cpu\")\n",
    "actions = [[-1], [0], [1]]\n",
    "net = FCN3(4, len(actions), 32).to(device)\n",
    "opt = torch.optim.RMSprop(net.parameters(), lr=config['lr'])\n",
    "agent = VanillaQ(net, opt, actions, device, gamma=config['gamma'])"
   ]
  },
  {
   "cell_type": "code",
   "execution_count": null,
   "metadata": {},
   "outputs": [],
   "source": [
    "# train agent\n",
    "vanilla_q_learning(\"InvertedPendulumMuJoCoEnv-v0\", agent, config)"
   ]
  },
  {
   "cell_type": "code",
   "execution_count": 4,
   "metadata": {},
   "outputs": [
    {
     "name": "stdout",
     "output_type": "stream",
     "text": [
      "current_dir=/home/xine/.local/lib/python3.6/site-packages/pybullet_envs/bullet\n",
      "options= \n",
      "Test VanillaQ at epoch 1862, max_reward: 1000.0\n",
      "options= \n",
      "Test 1 | Step: 1000 | Test reward: 1000.0\n",
      "Test 2 | Step: 1000 | Test reward: 1000.0\n",
      "Test 3 | Step: 1000 | Test reward: 1000.0\n",
      "Test 4 | Step: 1000 | Test reward: 1000.0\n",
      "Test 5 | Step: 1000 | Test reward: 1000.0\n",
      "Test 6 | Step: 1000 | Test reward: 1000.0\n",
      "Test 7 | Step: 1000 | Test reward: 1000.0\n",
      "Test 8 | Step: 1000 | Test reward: 1000.0\n",
      "Test 9 | Step: 1000 | Test reward: 1000.0\n",
      "Test 10 | Step: 1000 | Test reward: 1000.0\n",
      "Mean reward: 1000.0.\n"
     ]
    },
    {
     "data": {
      "image/png": "[encoded data removed]",
      "text/plain": [
       "<Figure size 432x288 with 1 Axes>"
      ]
     },
     "metadata": {
      "needs_background": "light"
     },
     "output_type": "display_data"
    }
   ],
   "source": [
    "# evaluate agent\n",
    "evaluate_agent(\"InvertedPendulumMuJoCoEnv-v0\", agent, config)"
   ]
  },
  {
   "cell_type": "markdown",
   "metadata": {},
   "source": [
    "###  Env 2 HalfCheetahMuJoCoEnv-v0"
   ]
  },
  {
   "cell_type": "code",
   "execution_count": 5,
   "metadata": {},
   "outputs": [],
   "source": [
    "config = {\n",
    "    \"save_interval\": 500,\n",
    "    \"max_epoch\": 50000,\n",
    "    \"max_step\": 200,\n",
    "    \"epsilon\": 0.1, # e-greedy\n",
    "    \"gamma\": 0.9,   # discount factor\n",
    "    \"lr\": 0.0001,    # learning rate\n",
    "    \"plt_smooth\": 11,    #\n",
    "    \"test_max_epoch\": 10,\n",
    "    \"test_max_step\": 1000,\n",
    "}\n",
    "\n",
    "# load 5-layer FC network\n",
    "from model.FCN5 import *\n",
    "\n",
    "device = torch.device(\"cuda\" if torch.cuda.is_available() else \"cpu\")\n",
    "actions = [[j1, j2, j3, j4, j5, j6] for j1 in range(-1, 2)\n",
    "           for j2 in range(-1, 2)\n",
    "           for j3 in range(-1, 2)\n",
    "           for j4 in range(-1, 2)\n",
    "           for j5 in range(-1, 2)\n",
    "           for j6 in range(-1, 2)]\n",
    "net = FCN5(17, len(actions), 256).to(device)\n",
    "opt = torch.optim.RMSprop(net.parameters(), lr=config['lr'])\n",
    "agent = VanillaQ(net, opt, actions, device, gamma=config['gamma'])"
   ]
  },
  {
   "cell_type": "code",
   "execution_count": null,
   "metadata": {},
   "outputs": [],
   "source": [
    "# train agent\n",
    "vanilla_q_learning(\"HalfCheetahMuJoCoEnv-v0\", agent, config)"
   ]
  },
  {
   "cell_type": "code",
   "execution_count": 8,
   "metadata": {},
   "outputs": [
    {
     "name": "stdout",
     "output_type": "stream",
     "text": [
      "WalkerBase::__init__\n",
      "options= \n",
      "Test VanillaQ at epoch 37916, max_reward: 155.14566803874226\n",
      "options= \n",
      "Test 1 | Step: 1000 | Test reward: 494.8\n",
      "Test 2 | Step: 1000 | Test reward: 461.4\n",
      "Test 3 | Step: 1000 | Test reward: 646.0\n",
      "Test 4 | Step: 1000 | Test reward: 433.2\n",
      "Test 5 | Step: 1000 | Test reward: 142.2\n",
      "Test 6 | Step: 1000 | Test reward: 96.5\n",
      "Test 7 | Step: 1000 | Test reward: 662.1\n",
      "Test 8 | Step: 1000 | Test reward: 657.9\n",
      "Test 9 | Step: 1000 | Test reward: 149.7\n",
      "Test 10 | Step: 1000 | Test reward: 300.4\n",
      "Mean reward: 404.4.\n"
     ]
    },
    {
     "data": {
      "image/png": "[encoded data removed]",
      "text/plain": [
       "<Figure size 432x288 with 1 Axes>"
      ]
     },
     "metadata": {
      "needs_background": "light"
     },
     "output_type": "display_data"
    }
   ],
   "source": [
    "# evaluate agent\n",
    "evaluate_agent(\"HalfCheetahMuJoCoEnv-v0\", agent, config)"
   ]
  },
  {
   "cell_type": "code",
   "execution_count": 6,
   "metadata": {},
   "outputs": [],
   "source": [
    "# Initialize network, optimizer and agent\n",
    "\n",
    "config = {\n",
    "    \"save_interval\": 500,\n",
    "    \"max_epoch\": 100000,\n",
    "    \"max_step\": 1000,\n",
    "    \"epsilon\": 0.1, # e-greedy\n",
    "    \"gamma\": 0.9,   # discount factor\n",
    "    \"lr\": 0.01,    # learning rate\n",
    "    \"plt_smooth\": 1,    #\n",
    "    \"test_max_epoch\": 10,\n",
    "    \"test_max_step\": 1000,\n",
    "}\n",
    "\n",
    "# load 3-layer FC network\n",
    "from model.FCN3 import *\n",
    "\n",
    "device = torch.device(\"cuda\" if torch.cuda.is_available() else \"cpu\")\n",
    "actions = [[0], [1], [2], [3]]\n",
    "net = FCN3(128, len(actions), 256).to(device)\n",
    "opt = torch.optim.RMSprop(net.parameters(), lr=config['lr'])\n",
    "agent = VanillaQ(net, opt, actions, device, gamma=config['gamma'])\n",
    "\n",
    "def normalized_prep(self, s):\n",
    "    val = torch.from_numpy(s).float() / 255\n",
    "    return val.view(1, -1).to(self.device)\n",
    "\n",
    "import types\n",
    "agent.prep=types.MethodType(normalized_prep, agent)\n",
    "        "
   ]
  },
  {
   "cell_type": "code",
   "execution_count": null,
   "metadata": {},
   "outputs": [],
   "source": [
    "# train agent\n",
    "vanilla_q_learning(\"Breakout-ram-v4\", agent, config)"
   ]
  },
  {
   "cell_type": "code",
   "execution_count": 9,
   "metadata": {},
   "outputs": [
    {
     "name": "stdout",
     "output_type": "stream",
     "text": [
      "Test VanillaQ at epoch 42745, max_reward: 12.0\n",
      "Test 1 | Step: 284 | Test reward: 3.0\n",
      "Test 2 | Step: 156 | Test reward: 0.0\n",
      "Test 3 | Step: 664 | Test reward: 12.0\n",
      "Test 4 | Step: 159 | Test reward: 0.0\n",
      "Test 5 | Step: 160 | Test reward: 0.0\n",
      "Test 6 | Step: 163 | Test reward: 0.0\n",
      "Test 7 | Step: 286 | Test reward: 3.0\n",
      "Test 8 | Step: 665 | Test reward: 12.0\n",
      "Test 9 | Step: 157 | Test reward: 0.0\n",
      "Test 10 | Step: 654 | Test reward: 12.0\n",
      "Mean reward: 4.2.\n"
     ]
    },
    {
     "data": {
      "image/png": "[encoded data removed]",
      "text/plain": [
       "<Figure size 432x288 with 1 Axes>"
      ]
     },
     "metadata": {
      "needs_background": "light"
     },
     "output_type": "display_data"
    }
   ],
   "source": [
    "# evaluate agent\n",
    "evaluate_agent(\"Breakout-ram-v4\", agent, config)"
   ]
  }
 ],
 "metadata": {
  "kernelspec": {
   "display_name": "Python 3",
   "language": "python",
   "name": "python3"
  },
  "language_info": {
   "codemirror_mode": {
    "name": "ipython",
    "version": 3
   },
   "file_extension": ".py",
   "mimetype": "text/x-python",
   "name": "python",
   "nbconvert_exporter": "python",
   "pygments_lexer": "ipython3",
   "version": "3.6.9"
  }
 },
 "nbformat": 4,
 "nbformat_minor": 2
}
